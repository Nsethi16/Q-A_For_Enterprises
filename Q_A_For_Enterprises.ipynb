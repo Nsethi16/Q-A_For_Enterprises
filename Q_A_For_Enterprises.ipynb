{
  "nbformat": 4,
  "nbformat_minor": 0,
  "metadata": {
    "colab": {
      "provenance": [],
      "authorship_tag": "ABX9TyP6qVutqT5Z9S0uh7FlYElI"
    },
    "kernelspec": {
      "name": "python3",
      "display_name": "Python 3"
    },
    "language_info": {
      "name": "python"
    }
  },
  "cells": [
    {
      "cell_type": "code",
      "execution_count": null,
      "metadata": {
        "id": "l_GRfuUw7ut4"
      },
      "outputs": [],
      "source": [
        "!pip install azure-search-documents --pre\n",
        "!pip install openai\n",
        "!pip install --upgrade tiktoken\n",
        "!pip install typing"
      ]
    },
    {
      "cell_type": "code",
      "source": [
        "import tiktoken\n",
        "import os\n",
        "import json\n",
        "import openai\n",
        "from azure.core.credentials import AzureKeyCredential\n",
        "from azure.search.documents import SearchClient\n",
        "from typing import Any"
      ],
      "metadata": {
        "id": "IiA56q1h74QS"
      },
      "execution_count": null,
      "outputs": []
    }
  ]
}